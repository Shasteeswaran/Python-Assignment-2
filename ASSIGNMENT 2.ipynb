{
 "cells": [
  {
   "cell_type": "markdown",
   "id": "5642636b",
   "metadata": {},
   "source": [
    " #      TYPES OF INHERITANCE IN PYTHON"
   ]
  },
  {
   "cell_type": "markdown",
   "id": "7e2ef66b",
   "metadata": {},
   "source": [
    "### SINGLE INHERITANCE"
   ]
  },
  {
   "cell_type": "code",
   "execution_count": 2,
   "id": "bde97ab6",
   "metadata": {},
   "outputs": [
    {
     "name": "stdout",
     "output_type": "stream",
     "text": [
      "this funciton is in Root class.  \n",
      "this function is in Branch class.\n"
     ]
    }
   ],
   "source": [
    "class root:\n",
    "    def function_1(self):\n",
    "        print(\"this funciton is in Root class.  \")\n",
    "class branch(root):\n",
    "    def function_2(self):\n",
    "        print(\"this function is in Branch class.\")\n",
    "obj = branch()\n",
    "obj.function_1()\n",
    "obj.function_2()"
   ]
  },
  {
   "cell_type": "markdown",
   "id": "2c1ecabe",
   "metadata": {},
   "source": [
    "### MULTIPLE INHERITANCE"
   ]
  },
  {
   "cell_type": "code",
   "execution_count": 3,
   "id": "d5ef672d",
   "metadata": {},
   "outputs": [
    {
     "name": "stdout",
     "output_type": "stream",
     "text": [
      "Father : peter\n",
      "Mother : mj\n"
     ]
    }
   ],
   "source": [
    "       \n",
    "    \n",
    "class Mother:\n",
    "    mothername = \"\"\n",
    " \n",
    "    def mother(self):\n",
    "        print(self.mothername)\n",
    " \n",
    " \n",
    "class Father:\n",
    "    fathername = \"\"\n",
    " \n",
    "    def father(self):\n",
    "        print(self.fathername)\n",
    " \n",
    " \n",
    "class Son(Mother, Father):\n",
    "    def parents(self):\n",
    "        print(\"Father :\", self.fathername)\n",
    "        print(\"Mother :\", self.mothername)\n",
    " \n",
    " \n",
    "# Driver's code\n",
    "s1 = Son()\n",
    "s1.fathername = \"peter\"\n",
    "s1.mothername = \"mj\"\n",
    "s1.parents()"
   ]
  },
  {
   "cell_type": "markdown",
   "id": "1110a00e",
   "metadata": {},
   "source": [
    "### MULTILEVEL INHERITANCE"
   ]
  },
  {
   "cell_type": "code",
   "execution_count": 7,
   "id": "ab134100",
   "metadata": {},
   "outputs": [
    {
     "name": "stdout",
     "output_type": "stream",
     "text": [
      "LOKI\n",
      "Grandfather name : LOKI\n",
      "Father name : MJ\n",
      "Son name : potter\n"
     ]
    }
   ],
   "source": [
    "class Grandfather:\n",
    " \n",
    "    def __init__(self, grandfathername):\n",
    "        self.grandfathername = grandfathername\n",
    " \n",
    " \n",
    "class Father(Grandfather):\n",
    "    def __init__(self, fathername, grandfathername):\n",
    "        self.fathername = fathername\n",
    "\n",
    "        Grandfather.__init__(self, grandfathername)\n",
    " \n",
    "class Son(Father):\n",
    "    def __init__(self, sonname, fathername, grandfathername):\n",
    "        self.sonname = sonname\n",
    " \n",
    "        \n",
    "        Father.__init__(self, fathername, grandfathername)\n",
    " \n",
    "    def print_name(self):\n",
    "        print('Grandfather name :', self.grandfathername)\n",
    "        print(\"Father name :\", self.fathername)\n",
    "        print(\"Son name :\", self.sonname)\n",
    " \n",
    " \n",
    "\n",
    "s1 = Son('potter', 'MJ', 'LOKI')\n",
    "print(s1.grandfathername)\n",
    "s1.print_name()"
   ]
  },
  {
   "cell_type": "markdown",
   "id": "53efd433",
   "metadata": {},
   "source": [
    "### HIERARCHICAL INHERITANCE"
   ]
  },
  {
   "cell_type": "code",
   "execution_count": 9,
   "id": "7031922c",
   "metadata": {},
   "outputs": [
    {
     "name": "stdout",
     "output_type": "stream",
     "text": [
      "3 3 3\n"
     ]
    }
   ],
   "source": [
    "class SuperClass:\n",
    "    x = 3\n",
    "class SubClass1(SuperClass):\n",
    "    pass\n",
    "class SubClass2(SuperClass):\n",
    "    pass\n",
    "class SubClass3(SuperClass):\n",
    "    pass\n",
    "a = SubClass1()\n",
    "b = SubClass2()\n",
    "c = SubClass3()\n",
    "print(a.x, b.x, c.x)"
   ]
  },
  {
   "cell_type": "markdown",
   "id": "641fc3d0",
   "metadata": {},
   "source": [
    "5.HYBRID INHERITANCE"
   ]
  },
  {
   "cell_type": "code",
   "execution_count": 10,
   "id": "c900ad2c",
   "metadata": {},
   "outputs": [
    {
     "name": "stdout",
     "output_type": "stream",
     "text": [
      "10\n"
     ]
    }
   ],
   "source": [
    "class X:\n",
    "    num = 10\n",
    "class A(X):\n",
    "    pass\n",
    "class B(A):\n",
    "    pass\n",
    "class C(A):\n",
    "    pass\n",
    "class D(B, C):\n",
    "    pass\n",
    "\n",
    "ob = D()\n",
    "print(D.num)"
   ]
  },
  {
   "cell_type": "markdown",
   "id": "bbf0ec04",
   "metadata": {},
   "source": [
    "## EXCEPTION HANDLING "
   ]
  },
  {
   "cell_type": "markdown",
   "id": "a85d7f70",
   "metadata": {},
   "source": [
    "### ZeroDivisionError"
   ]
  },
  {
   "cell_type": "markdown",
   "id": "3c45ec67",
   "metadata": {},
   "source": [
    "marks = 1000\n",
    "a = marks / 0\n",
    "print(a)"
   ]
  },
  {
   "cell_type": "code",
   "execution_count": 11,
   "id": "a314f46a",
   "metadata": {},
   "outputs": [
    {
     "name": "stdout",
     "output_type": "stream",
     "text": [
      "An error occurred\n",
      "1000\n"
     ]
    }
   ],
   "source": [
    "marks = 1000\n",
    "try:\n",
    "    a = marks / 0 \n",
    "    print(a)\n",
    "except:\n",
    "    print (\"An error occurred\")\n",
    "    print(marks)"
   ]
  },
  {
   "cell_type": "markdown",
   "id": "dd307daf",
   "metadata": {},
   "source": [
    "### unexpected indent"
   ]
  },
  {
   "cell_type": "code",
   "execution_count": 13,
   "id": "385c3b13",
   "metadata": {},
   "outputs": [
    {
     "name": "stdout",
     "output_type": "stream",
     "text": [
      "Second element = 16\n",
      "An error occurred\n"
     ]
    }
   ],
   "source": [
    "a = [8, 16, 23]\n",
    "try: \n",
    "    print (\"Second element = %d\" %(a[1]))\n",
    "  \n",
    "    # Throws error since there are only 3 elements in array\n",
    "    print (\"Fourth element = %d\" %(a[3]))\n",
    "except:\n",
    "    print (\"An error occurred\")"
   ]
  },
  {
   "cell_type": "markdown",
   "id": "bbb176d4",
   "metadata": {},
   "source": [
    "### VALUE ERROR"
   ]
  },
  {
   "cell_type": "code",
   "execution_count": 15,
   "id": "3f027e5e",
   "metadata": {},
   "outputs": [
    {
     "name": "stdout",
     "output_type": "stream",
     "text": [
      "Please enter a number: 45\n"
     ]
    }
   ],
   "source": [
    "while True:\n",
    "...     try:\n",
    "...         x = int(input(\"Please enter a number: \"))\n",
    "...         break\n",
    "...     except ValueError:\n",
    "...         print(\"Oops!  That was no valid number.  Try again...\")\n",
    "..."
   ]
  },
  {
   "cell_type": "markdown",
   "id": "5f84762c",
   "metadata": {},
   "source": [
    "### FILE OPENING ERROR"
   ]
  },
  {
   "cell_type": "code",
   "execution_count": 20,
   "id": "0bb1e76d",
   "metadata": {},
   "outputs": [
    {
     "name": "stdout",
     "output_type": "stream",
     "text": [
      "Something went wrong when opening the file\n"
     ]
    }
   ],
   "source": [
    "try:\n",
    "  f = open(\"demofile.txt\")\n",
    "  try:\n",
    "    f.write(\"Lorum Ipsum\")\n",
    "  except:\n",
    "    print(\"Something went wrong when writing to the file\")\n",
    "  finally:\n",
    "    f.close()\n",
    "except:\n",
    "  print(\"Something went wrong when opening the file\")"
   ]
  },
  {
   "cell_type": "markdown",
   "id": "0138ea2d",
   "metadata": {},
   "source": [
    "### IndentationError"
   ]
  },
  {
   "cell_type": "code",
   "execution_count": 22,
   "id": "8cfad122",
   "metadata": {},
   "outputs": [
    {
     "name": "stdout",
     "output_type": "stream",
     "text": [
      "29\n"
     ]
    }
   ],
   "source": [
    "a = 10\n",
    "try:\n",
    "     b = 19\n",
    "     c = a+b\n",
    "except:\n",
    "    print(\"indentation error is occured\")\n",
    "print(c)\n"
   ]
  },
  {
   "cell_type": "markdown",
   "id": "3424bdb4",
   "metadata": {},
   "source": [
    "### NAME ERROR"
   ]
  },
  {
   "cell_type": "code",
   "execution_count": 52,
   "id": "c3283ef8",
   "metadata": {},
   "outputs": [
    {
     "name": "stdout",
     "output_type": "stream",
     "text": [
      "Variable s is not defined\n"
     ]
    }
   ],
   "source": [
    "try:\n",
    "  print(s)\n",
    "except NameError:\n",
    "  print(\"Variable s is not defined\")\n",
    "except:\n",
    "  print(\"Something else went wrong\")"
   ]
  },
  {
   "cell_type": "markdown",
   "id": "b2e4ac65",
   "metadata": {},
   "source": [
    "## REGULAR EXPRESSION"
   ]
  },
  {
   "cell_type": "markdown",
   "id": "b8f94699",
   "metadata": {},
   "source": [
    "### FINDALL()"
   ]
  },
  {
   "cell_type": "code",
   "execution_count": 64,
   "id": "1defadf4",
   "metadata": {},
   "outputs": [
    {
     "name": "stdout",
     "output_type": "stream",
     "text": [
      "['is', 'is']\n"
     ]
    }
   ],
   "source": [
    "import re\n",
    "\n",
    "word = \"this is beautiful world\"\n",
    "x = re.findall(\"is\", word)\n",
    "print(x)"
   ]
  },
  {
   "cell_type": "markdown",
   "id": "4721e9bb",
   "metadata": {},
   "source": [
    "### SEARCH()"
   ]
  },
  {
   "cell_type": "code",
   "execution_count": 73,
   "id": "0629a85b",
   "metadata": {},
   "outputs": [
    {
     "name": "stdout",
     "output_type": "stream",
     "text": [
      "<re.Match object; span=(18, 23), match='world'>\n"
     ]
    }
   ],
   "source": [
    "import re\n",
    "\n",
    "par = \"This is beautiful world\"\n",
    "x = re.search(\"world\", par)\n",
    "print(x)\n"
   ]
  },
  {
   "cell_type": "code",
   "execution_count": 74,
   "id": "f9850c80",
   "metadata": {},
   "outputs": [
    {
     "name": "stdout",
     "output_type": "stream",
     "text": [
      "The located in position: 4\n"
     ]
    }
   ],
   "source": [
    "import re\n",
    "\n",
    "par = \"This is beautiful world \"\n",
    "x = re.search(\"\\s\", par)\n",
    "\n",
    "print(\"The located in position:\", x.start())"
   ]
  },
  {
   "cell_type": "markdown",
   "id": "486cc1e4",
   "metadata": {},
   "source": [
    "### SPLIT()"
   ]
  },
  {
   "cell_type": "code",
   "execution_count": 71,
   "id": "5d85dc3e",
   "metadata": {},
   "outputs": [
    {
     "name": "stdout",
     "output_type": "stream",
     "text": [
      "['This', 'is', 'beautiful', 'world']\n"
     ]
    }
   ],
   "source": [
    "import re\n",
    "\n",
    "sen = \"This is beautiful world\"\n",
    "x = re.split(\"\\s\", sen)\n",
    "print(x)"
   ]
  },
  {
   "cell_type": "markdown",
   "id": "1b8c199e",
   "metadata": {},
   "source": [
    "### sub()"
   ]
  },
  {
   "cell_type": "code",
   "execution_count": 77,
   "id": "05f8b6d2",
   "metadata": {},
   "outputs": [
    {
     "name": "stdout",
     "output_type": "stream",
     "text": [
      "thisnnisnbeautifulnworld\n"
     ]
    }
   ],
   "source": [
    "import re\n",
    "part = \"this  is beautiful world\"\n",
    "x = re.sub(\"\\s\", \"n\", part)\n",
    "print(x)"
   ]
  },
  {
   "cell_type": "markdown",
   "id": "429ff3fd",
   "metadata": {},
   "source": [
    "## aggregate function "
   ]
  },
  {
   "cell_type": "code",
   "execution_count": 78,
   "id": "bbcd328a",
   "metadata": {},
   "outputs": [
    {
     "name": "stdout",
     "output_type": "stream",
     "text": [
      "[20 34 45 56 78]\n"
     ]
    }
   ],
   "source": [
    "import numpy as np\n",
    "arr1 = np.array([10,20,30,40,50])\n",
    "arr1\n",
    "b = np.array([20,34,45,56,78])\n",
    "print(b)"
   ]
  },
  {
   "cell_type": "code",
   "execution_count": 79,
   "id": "b212124f",
   "metadata": {},
   "outputs": [
    {
     "data": {
      "text/plain": [
       "array([[ 0, 10, 20],\n",
       "       [20, 40, 50],\n",
       "       [30, 40, 50]])"
      ]
     },
     "execution_count": 79,
     "metadata": {},
     "output_type": "execute_result"
    }
   ],
   "source": [
    "arr2 = np.array([[0,10,20],[20,40,50],[30,40,50]])\n",
    "arr2"
   ]
  },
  {
   "cell_type": "code",
   "execution_count": 80,
   "id": "e472e3b0",
   "metadata": {},
   "outputs": [
    {
     "data": {
      "text/plain": [
       "array([['12', 'str', '-45', '56.8'],\n",
       "       ['34', '45', '45', '89']], dtype='<U32')"
      ]
     },
     "execution_count": 80,
     "metadata": {},
     "output_type": "execute_result"
    }
   ],
   "source": [
    "arr3 = np.array([[12,'str',-45,56.8],[34,45,45,89]])\n",
    "arr3"
   ]
  },
  {
   "cell_type": "markdown",
   "id": "ce5db93d",
   "metadata": {},
   "source": [
    "### SUM FUNCTION"
   ]
  },
  {
   "cell_type": "code",
   "execution_count": 81,
   "id": "a3242129",
   "metadata": {},
   "outputs": [
    {
     "data": {
      "text/plain": [
       "150"
      ]
     },
     "execution_count": 81,
     "metadata": {},
     "output_type": "execute_result"
    }
   ],
   "source": [
    "arr1.sum()\n"
   ]
  },
  {
   "cell_type": "code",
   "execution_count": 83,
   "id": "b9f7a3d9",
   "metadata": {},
   "outputs": [
    {
     "data": {
      "text/plain": [
       "array([ 50,  90, 120])"
      ]
     },
     "execution_count": 83,
     "metadata": {},
     "output_type": "execute_result"
    }
   ],
   "source": [
    "arr2.sum(axis = 0)\n",
    "#vertical"
   ]
  },
  {
   "cell_type": "code",
   "execution_count": 84,
   "id": "a1075cf2",
   "metadata": {},
   "outputs": [
    {
     "data": {
      "text/plain": [
       "array([ 30, 110, 120])"
      ]
     },
     "execution_count": 84,
     "metadata": {},
     "output_type": "execute_result"
    }
   ],
   "source": [
    "arr2.sum(axis = 1)\n",
    "#hortizontal"
   ]
  },
  {
   "cell_type": "raw",
   "id": "a74309a6",
   "metadata": {},
   "source": [
    "PRODUCT FUNCTION"
   ]
  },
  {
   "cell_type": "code",
   "execution_count": 88,
   "id": "78fc87f5",
   "metadata": {},
   "outputs": [
    {
     "data": {
      "text/plain": [
       "12000000"
      ]
     },
     "execution_count": 88,
     "metadata": {},
     "output_type": "execute_result"
    }
   ],
   "source": [
    "np.prod(arr1)"
   ]
  },
  {
   "cell_type": "code",
   "execution_count": 89,
   "id": "74e690f1",
   "metadata": {},
   "outputs": [
    {
     "data": {
      "text/plain": [
       "array([    0, 16000, 50000])"
      ]
     },
     "execution_count": 89,
     "metadata": {},
     "output_type": "execute_result"
    }
   ],
   "source": [
    "#PRODUCT\n",
    "np.product(arr2,axis = 0)"
   ]
  },
  {
   "cell_type": "code",
   "execution_count": 90,
   "id": "148e499f",
   "metadata": {},
   "outputs": [
    {
     "data": {
      "text/plain": [
       "array([    0, 40000, 60000])"
      ]
     },
     "execution_count": 90,
     "metadata": {},
     "output_type": "execute_result"
    }
   ],
   "source": [
    "np.prod(arr2,axis = 1)"
   ]
  },
  {
   "cell_type": "markdown",
   "id": "d840faff",
   "metadata": {},
   "source": [
    "### AVERAGE FUNCTION"
   ]
  },
  {
   "cell_type": "code",
   "execution_count": 85,
   "id": "92271c4e",
   "metadata": {},
   "outputs": [
    {
     "data": {
      "text/plain": [
       "30.0"
      ]
     },
     "execution_count": 85,
     "metadata": {},
     "output_type": "execute_result"
    }
   ],
   "source": [
    "np.average(arr1)"
   ]
  },
  {
   "cell_type": "code",
   "execution_count": 86,
   "id": "ab7a321a",
   "metadata": {},
   "outputs": [
    {
     "data": {
      "text/plain": [
       "array([16.66666667, 30.        , 40.        ])"
      ]
     },
     "execution_count": 86,
     "metadata": {},
     "output_type": "execute_result"
    }
   ],
   "source": [
    "#array average x and y axis \n",
    "np.average(arr2,axis =0)"
   ]
  },
  {
   "cell_type": "code",
   "execution_count": 87,
   "id": "c8b799dc",
   "metadata": {},
   "outputs": [
    {
     "data": {
      "text/plain": [
       "array([10.        , 36.66666667, 40.        ])"
      ]
     },
     "execution_count": 87,
     "metadata": {},
     "output_type": "execute_result"
    }
   ],
   "source": [
    "np.average(arr2,axis = 1)"
   ]
  },
  {
   "cell_type": "markdown",
   "id": "5eb8de96",
   "metadata": {},
   "source": [
    "### MINIMUM FUNCTION"
   ]
  },
  {
   "cell_type": "code",
   "execution_count": 91,
   "id": "2aa0a774",
   "metadata": {},
   "outputs": [
    {
     "data": {
      "text/plain": [
       "10"
      ]
     },
     "execution_count": 91,
     "metadata": {},
     "output_type": "execute_result"
    }
   ],
   "source": [
    "#minmun (min)\n",
    "arr1.min()"
   ]
  },
  {
   "cell_type": "code",
   "execution_count": 92,
   "id": "2d90203c",
   "metadata": {},
   "outputs": [
    {
     "data": {
      "text/plain": [
       "array([ 0, 10, 20])"
      ]
     },
     "execution_count": 92,
     "metadata": {},
     "output_type": "execute_result"
    }
   ],
   "source": [
    "arr2.min(axis = 0)"
   ]
  },
  {
   "cell_type": "code",
   "execution_count": 93,
   "id": "62959328",
   "metadata": {},
   "outputs": [
    {
     "data": {
      "text/plain": [
       "array([ 0, 20, 30])"
      ]
     },
     "execution_count": 93,
     "metadata": {},
     "output_type": "execute_result"
    }
   ],
   "source": [
    "arr2.min(axis = 1)"
   ]
  },
  {
   "cell_type": "code",
   "execution_count": 94,
   "id": "a4898070",
   "metadata": {},
   "outputs": [
    {
     "data": {
      "text/plain": [
       "array([ 0, 10, 20])"
      ]
     },
     "execution_count": 94,
     "metadata": {},
     "output_type": "execute_result"
    }
   ],
   "source": [
    "arr2.min(0)"
   ]
  },
  {
   "cell_type": "code",
   "execution_count": 103,
   "id": "9b58f98e",
   "metadata": {},
   "outputs": [
    {
     "name": "stdout",
     "output_type": "stream",
     "text": [
      "[[9 6 4 1 7]\n",
      " [9 5 3 1 7]\n",
      " [5 5 3 1 3]\n",
      " [8 8 6 5 4]\n",
      " [7 7 3 3 3]]\n",
      "\n",
      "[[2 2 9 7 5]\n",
      " [2 2 1 3 7]\n",
      " [6 1 5 8 6]\n",
      " [3 5 3 2 8]\n",
      " [1 6 5 6 5]]\n",
      "\n",
      "-----Minimum Array----\n",
      "[[2 2 4 1 5]\n",
      " [2 2 1 1 7]\n",
      " [5 1 3 1 3]\n",
      " [3 5 3 2 4]\n",
      " [1 6 3 3 3]]\n"
     ]
    }
   ],
   "source": [
    "import numpy as np\n",
    "x = np.random.randint(1, 10, size = (5, 5))\n",
    "print(x)\n",
    "print()\n",
    " \n",
    "y = np.random.randint(1, 10, size = (5, 5))\n",
    "print(y)\n",
    " \n",
    "print('\\nMinimum Array')\n",
    "print(np.minimum(x, y))"
   ]
  },
  {
   "cell_type": "markdown",
   "id": "e33dcd0d",
   "metadata": {},
   "source": [
    "MAXIMUM FUNCTION"
   ]
  },
  {
   "cell_type": "code",
   "execution_count": 31,
   "id": "f62079e8",
   "metadata": {},
   "outputs": [
    {
     "name": "stdout",
     "output_type": "stream",
     "text": [
      "[ 1 20  5 22  8 15]\n",
      "[12  9  3 42  6 33]\n",
      "\n",
      "Maximum Array\n",
      "[12 20  5 42  8 33]\n"
     ]
    }
   ],
   "source": [
    "import numpy as np\n",
    " \n",
    "a = np.array([1, 20, 5, 22, 8, 15])\n",
    "print(a)\n",
    "\n",
    "b = np.array([12, 9, 3, 42, 6, 33])\n",
    "print(b)\n",
    " \n",
    "print('\\nMaximum Array')\n",
    "print(np.maximum(a, b))"
   ]
  },
  {
   "cell_type": "markdown",
   "id": "b1e4494a",
   "metadata": {},
   "source": [
    "MEAN FUNCTION"
   ]
  },
  {
   "cell_type": "markdown",
   "id": "60ac8872",
   "metadata": {},
   "source": [
    "arr1.mean()\n",
    "arr2.mean()"
   ]
  },
  {
   "cell_type": "markdown",
   "id": "acd778ac",
   "metadata": {},
   "source": [
    "MEDIAN FUNCTION"
   ]
  },
  {
   "cell_type": "code",
   "execution_count": 34,
   "id": "2b67bd09",
   "metadata": {},
   "outputs": [
    {
     "data": {
      "text/plain": [
       "array([10., 40., 40.])"
      ]
     },
     "execution_count": 34,
     "metadata": {},
     "output_type": "execute_result"
    }
   ],
   "source": [
    "np.median(arr1)\n",
    "np.median(arr2)\n",
    "\n",
    "np.median(arr2, axis = 0)\n",
    "np.median(arr2, axis = 1)\n",
    "\n"
   ]
  },
  {
   "cell_type": "markdown",
   "id": "994bb065",
   "metadata": {},
   "source": [
    "VARIANCE FUNCTION"
   ]
  },
  {
   "cell_type": "code",
   "execution_count": 36,
   "id": "b07745be",
   "metadata": {},
   "outputs": [
    {
     "name": "stdout",
     "output_type": "stream",
     "text": [
      "[[3 6 5 2 7]\n",
      " [5 8 6 6 7]\n",
      " [4 3 5 6 5]\n",
      " [9 7 5 3 6]\n",
      " [9 4 7 4 1]]\n",
      "\n",
      "[[8 7 9 5 5]\n",
      " [2 3 2 2 8]\n",
      " [2 3 4 4 2]\n",
      " [7 1 8 8 6]\n",
      " [3 6 3 8 2]]\n"
     ]
    },
    {
     "data": {
      "text/plain": [
       "6.281600000000001"
      ]
     },
     "execution_count": 36,
     "metadata": {},
     "output_type": "execute_result"
    }
   ],
   "source": [
    "arr1.var()\n",
    "arr2.var()\n",
    "import numpy as np\n",
    "x = np.random.randint(1, 10, size = (5, 5))\n",
    "print(x)\n",
    "print()\n",
    " \n",
    "y = np.random.randint(1, 10, size = (5, 5))\n",
    "print(y)\n",
    "\n",
    "x.var()\n",
    "y.var()"
   ]
  },
  {
   "cell_type": "markdown",
   "id": "5acfbab5",
   "metadata": {},
   "source": [
    "CUMULATIVE SUM"
   ]
  },
  {
   "cell_type": "code",
   "execution_count": 37,
   "id": "e03ba245",
   "metadata": {},
   "outputs": [
    {
     "data": {
      "text/plain": [
       "array([  0,  10,  30,  50,  90, 140, 170, 210, 260], dtype=int32)"
      ]
     },
     "execution_count": 37,
     "metadata": {},
     "output_type": "execute_result"
    }
   ],
   "source": [
    "arr1.cumsum()\n",
    "arr2.cumsum()"
   ]
  },
  {
   "cell_type": "markdown",
   "id": "8b2d3ae8",
   "metadata": {},
   "source": [
    "CUMULATIVE PRODUCT"
   ]
  },
  {
   "cell_type": "code",
   "execution_count": 38,
   "id": "80ef3144",
   "metadata": {},
   "outputs": [
    {
     "data": {
      "text/plain": [
       "array([[    0,     0,     0],\n",
       "       [   20,   800, 40000],\n",
       "       [   30,  1200, 60000]], dtype=int32)"
      ]
     },
     "execution_count": 38,
     "metadata": {},
     "output_type": "execute_result"
    }
   ],
   "source": [
    "arr1.cumprod()\n",
    "arr2.cumprod()\n",
    " \n",
    "\n",
    "# Let me find the cumulative product of array elements in x and Y axis\n",
    "arr2.cumprod(axis = 0)\n",
    "arr2.cumprod(axis = 1)"
   ]
  },
  {
   "cell_type": "markdown",
   "id": "d1515e84",
   "metadata": {},
   "source": [
    "PERCENTILE FUNCTION"
   ]
  },
  {
   "cell_type": "code",
   "execution_count": 40,
   "id": "7408fc8b",
   "metadata": {},
   "outputs": [
    {
     "data": {
      "text/plain": [
       "50.0"
      ]
     },
     "execution_count": 40,
     "metadata": {},
     "output_type": "execute_result"
    }
   ],
   "source": [
    "np.percentile(arr1, 10)\n",
    "np.percentile(arr1, 30)\n",
    "np.percentile(arr1, 50)\n",
    "np.percentile(arr1, 75)\n",
    "np.percentile(arr1, 100)\n",
    " "
   ]
  },
  {
   "cell_type": "markdown",
   "id": "81a9fb33",
   "metadata": {},
   "source": [
    "ARGMIN FUNCTION"
   ]
  },
  {
   "cell_type": "code",
   "execution_count": 115,
   "id": "b5caa384",
   "metadata": {},
   "outputs": [
    {
     "data": {
      "text/plain": [
       "array([[ 9, 12, 20, 18,  4],\n",
       "       [ 1,  4, 20, 24,  0],\n",
       "       [ 5, 24,  3, 16, 19],\n",
       "       [ 6,  9, 10, 14, 12],\n",
       "       [ 2,  9, 17, 16,  0]])"
      ]
     },
     "execution_count": 115,
     "metadata": {},
     "output_type": "execute_result"
    }
   ],
   "source": [
    "arr4 = np.random.randint(9, size = (9))\n",
    "arr4\n",
    "\n",
    "arr5 = np.random.randint(25, size = (5, 5))\n",
    "arr5\n"
   ]
  }
 ],
 "metadata": {
  "kernelspec": {
   "display_name": "Python 3 (ipykernel)",
   "language": "python",
   "name": "python3"
  },
  "language_info": {
   "codemirror_mode": {
    "name": "ipython",
    "version": 3
   },
   "file_extension": ".py",
   "mimetype": "text/x-python",
   "name": "python",
   "nbconvert_exporter": "python",
   "pygments_lexer": "ipython3",
   "version": "3.9.12"
  }
 },
 "nbformat": 4,
 "nbformat_minor": 5
}
